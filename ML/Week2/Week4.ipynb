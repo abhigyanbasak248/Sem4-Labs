{
 "cells": [
  {
   "cell_type": "code",
   "execution_count": 2,
   "id": "53cc2ab4",
   "metadata": {},
   "outputs": [],
   "source": [
    "import pandas as pd\n",
    "import numpy as np\n",
    "import matplotlib.pyplot as plt\n",
    "import seaborn as sns\n",
    "%matplotlib inline"
   ]
  },
  {
   "cell_type": "markdown",
   "id": "758a4295",
   "metadata": {},
   "source": [
    "## 1. Simple Linear Regression\n",
    "### a)"
   ]
  },
  {
   "cell_type": "code",
   "execution_count": 62,
   "id": "d26d3ad4",
   "metadata": {},
   "outputs": [
    {
     "data": {
      "text/html": [
       "<div>\n",
       "<style scoped>\n",
       "    .dataframe tbody tr th:only-of-type {\n",
       "        vertical-align: middle;\n",
       "    }\n",
       "\n",
       "    .dataframe tbody tr th {\n",
       "        vertical-align: top;\n",
       "    }\n",
       "\n",
       "    .dataframe thead th {\n",
       "        text-align: right;\n",
       "    }\n",
       "</style>\n",
       "<table border=\"1\" class=\"dataframe\">\n",
       "  <thead>\n",
       "    <tr style=\"text-align: right;\">\n",
       "      <th></th>\n",
       "      <th>X</th>\n",
       "      <th>Y</th>\n",
       "    </tr>\n",
       "  </thead>\n",
       "  <tbody>\n",
       "    <tr>\n",
       "      <th>0</th>\n",
       "      <td>1</td>\n",
       "      <td>1</td>\n",
       "    </tr>\n",
       "    <tr>\n",
       "      <th>1</th>\n",
       "      <td>2</td>\n",
       "      <td>4</td>\n",
       "    </tr>\n",
       "    <tr>\n",
       "      <th>2</th>\n",
       "      <td>3</td>\n",
       "      <td>9</td>\n",
       "    </tr>\n",
       "    <tr>\n",
       "      <th>3</th>\n",
       "      <td>4</td>\n",
       "      <td>16</td>\n",
       "    </tr>\n",
       "    <tr>\n",
       "      <th>4</th>\n",
       "      <td>5</td>\n",
       "      <td>25</td>\n",
       "    </tr>\n",
       "    <tr>\n",
       "      <th>5</th>\n",
       "      <td>6</td>\n",
       "      <td>36</td>\n",
       "    </tr>\n",
       "  </tbody>\n",
       "</table>\n",
       "</div>"
      ],
      "text/plain": [
       "   X   Y\n",
       "0  1   1\n",
       "1  2   4\n",
       "2  3   9\n",
       "3  4  16\n",
       "4  5  25\n",
       "5  6  36"
      ]
     },
     "execution_count": 62,
     "metadata": {},
     "output_type": "execute_result"
    }
   ],
   "source": [
    "data={\"X\":[1,2,3,4,5,6],\"Y\":[1,4,9,16,25,36]}\n",
    "df=pd.DataFrame(data)\n",
    "df"
   ]
  },
  {
   "cell_type": "code",
   "execution_count": 63,
   "id": "8cf176d1",
   "metadata": {},
   "outputs": [
    {
     "data": {
      "text/plain": [
       "<AxesSubplot:>"
      ]
     },
     "execution_count": 63,
     "metadata": {},
     "output_type": "execute_result"
    },
    {
     "data": {
      "image/png": "[encoded data removed]",
      "text/plain": [
       "<Figure size 640x480 with 1 Axes>"
      ]
     },
     "metadata": {},
     "output_type": "display_data"
    }
   ],
   "source": [
    "df.plot(kind='bar')"
   ]
  },
  {
   "cell_type": "code",
   "execution_count": 65,
   "id": "bc9ee69a",
   "metadata": {},
   "outputs": [],
   "source": [
    "x=df['X']\n",
    "y=df['Y']"
   ]
  },
  {
   "cell_type": "code",
   "execution_count": 66,
   "id": "007c2957",
   "metadata": {},
   "outputs": [],
   "source": [
    "from sklearn.model_selection import train_test_split\n",
    "x_train,x_test,y_train,y_test=train_test_split(x,y,test_size=0.2,random_state=100)"
   ]
  },
  {
   "cell_type": "code",
   "execution_count": 85,
   "id": "76730034",
   "metadata": {},
   "outputs": [],
   "source": [
    "x_train=np.reshape(np.array(x_train),(-1,1))\n",
    "y_train=np.reshape(np.array(y_train),(-1,1))\n",
    "x_test=np.reshape(np.array(x_test),(-1,1))\n",
    "y_test=np.reshape(np.array(y_test),(-1,1))"
   ]
  },
  {
   "cell_type": "code",
   "execution_count": 87,
   "id": "34ffe927",
   "metadata": {},
   "outputs": [],
   "source": [
    "from sklearn.linear_model import LinearRegression\n",
    "from sklearn import metrics"
   ]
  },
  {
   "cell_type": "code",
   "execution_count": 88,
   "id": "de7e20bd",
   "metadata": {},
   "outputs": [
    {
     "data": {
      "text/plain": [
       "LinearRegression()"
      ]
     },
     "execution_count": 88,
     "metadata": {},
     "output_type": "execute_result"
    }
   ],
   "source": [
    "slr=LinearRegression()\n",
    "slr.fit(x_train,y_train)"
   ]
  },
  {
   "cell_type": "code",
   "execution_count": 136,
   "id": "9ceb78e6",
   "metadata": {},
   "outputs": [
    {
     "data": {
      "text/plain": [
       "(array([[6.71428571]]), array([-7.35714286]))"
      ]
     },
     "execution_count": 136,
     "metadata": {},
     "output_type": "execute_result"
    }
   ],
   "source": [
    "slr.coef_,slr.intercept_"
   ]
  },
  {
   "cell_type": "code",
   "execution_count": 115,
   "id": "d5258450",
   "metadata": {},
   "outputs": [
    {
     "data": {
      "text/plain": [
       "(array([[ 6.07142857],\n",
       "        [12.78571429]]),\n",
       " array([[4],\n",
       "        [9]], dtype=int64))"
      ]
     },
     "execution_count": 115,
     "metadata": {},
     "output_type": "execute_result"
    }
   ],
   "source": [
    "y_pred=slr.predict(x_test)\n",
    "y_pred,y_test"
   ]
  },
  {
   "cell_type": "code",
   "execution_count": 116,
   "id": "388fa55b",
   "metadata": {},
   "outputs": [
    {
     "data": {
      "text/plain": [
       "-0.48979591836735015"
      ]
     },
     "execution_count": 116,
     "metadata": {},
     "output_type": "execute_result"
    }
   ],
   "source": [
    "slr.score(x_test,y_test)"
   ]
  },
  {
   "cell_type": "code",
   "execution_count": 112,
   "id": "3ae11ba3",
   "metadata": {},
   "outputs": [],
   "source": [
    "df['Pred_y']=slr.intercept_ + (np.array(df['X']).reshape(-1,1))*slr.coef_"
   ]
  },
  {
   "cell_type": "code",
   "execution_count": 113,
   "id": "da9b6cad",
   "metadata": {},
   "outputs": [
    {
     "data": {
      "text/html": [
       "<div>\n",
       "<style scoped>\n",
       "    .dataframe tbody tr th:only-of-type {\n",
       "        vertical-align: middle;\n",
       "    }\n",
       "\n",
       "    .dataframe tbody tr th {\n",
       "        vertical-align: top;\n",
       "    }\n",
       "\n",
       "    .dataframe thead th {\n",
       "        text-align: right;\n",
       "    }\n",
       "</style>\n",
       "<table border=\"1\" class=\"dataframe\">\n",
       "  <thead>\n",
       "    <tr style=\"text-align: right;\">\n",
       "      <th></th>\n",
       "      <th>X</th>\n",
       "      <th>Y</th>\n",
       "      <th>Pred_y</th>\n",
       "    </tr>\n",
       "  </thead>\n",
       "  <tbody>\n",
       "    <tr>\n",
       "      <th>0</th>\n",
       "      <td>1</td>\n",
       "      <td>1</td>\n",
       "      <td>-0.642857</td>\n",
       "    </tr>\n",
       "    <tr>\n",
       "      <th>1</th>\n",
       "      <td>2</td>\n",
       "      <td>4</td>\n",
       "      <td>6.071429</td>\n",
       "    </tr>\n",
       "    <tr>\n",
       "      <th>2</th>\n",
       "      <td>3</td>\n",
       "      <td>9</td>\n",
       "      <td>12.785714</td>\n",
       "    </tr>\n",
       "    <tr>\n",
       "      <th>3</th>\n",
       "      <td>4</td>\n",
       "      <td>16</td>\n",
       "      <td>19.500000</td>\n",
       "    </tr>\n",
       "    <tr>\n",
       "      <th>4</th>\n",
       "      <td>5</td>\n",
       "      <td>25</td>\n",
       "      <td>26.214286</td>\n",
       "    </tr>\n",
       "    <tr>\n",
       "      <th>5</th>\n",
       "      <td>6</td>\n",
       "      <td>36</td>\n",
       "      <td>32.928571</td>\n",
       "    </tr>\n",
       "  </tbody>\n",
       "</table>\n",
       "</div>"
      ],
      "text/plain": [
       "   X   Y     Pred_y\n",
       "0  1   1  -0.642857\n",
       "1  2   4   6.071429\n",
       "2  3   9  12.785714\n",
       "3  4  16  19.500000\n",
       "4  5  25  26.214286\n",
       "5  6  36  32.928571"
      ]
     },
     "execution_count": 113,
     "metadata": {},
     "output_type": "execute_result"
    }
   ],
   "source": [
    "df"
   ]
  },
  {
   "cell_type": "code",
   "execution_count": 118,
   "id": "befa2651",
   "metadata": {},
   "outputs": [
    {
     "data": {
      "text/plain": [
       "[<matplotlib.lines.Line2D at 0x18f883132e0>]"
      ]
     },
     "execution_count": 118,
     "metadata": {},
     "output_type": "execute_result"
    },
    {
     "data": {
      "image/png": "[encoded data removed]",
      "text/plain": [
       "<Figure size 640x480 with 1 Axes>"
      ]
     },
     "metadata": {},
     "output_type": "display_data"
    }
   ],
   "source": [
    "plt.scatter(df['X'],df['Y'])\n",
    "plt.plot(df['X'],df['Pred_y'],linewidth=3)"
   ]
  },
  {
   "cell_type": "code",
   "execution_count": 117,
   "id": "791dfd66",
   "metadata": {},
   "outputs": [
    {
     "data": {
      "text/plain": [
       "<AxesSubplot:xlabel='X', ylabel='Y'>"
      ]
     },
     "execution_count": 117,
     "metadata": {},
     "output_type": "execute_result"
    },
    {
     "data": {
      "image/png": "[encoded data removed]",
      "text/plain": [
       "<Figure size 640x480 with 1 Axes>"
      ]
     },
     "metadata": {},
     "output_type": "display_data"
    }
   ],
   "source": [
    "sns.regplot(x='X',y='Y',data=df)"
   ]
  },
  {
   "cell_type": "code",
   "execution_count": 125,
   "id": "76ef76ac",
   "metadata": {},
   "outputs": [
    {
     "data": {
      "text/plain": [
       "array([[59.78571429]])"
      ]
     },
     "execution_count": 125,
     "metadata": {},
     "output_type": "execute_result"
    }
   ],
   "source": [
    "x_new=np.array([10]).reshape(-1,1)\n",
    "y_new_pred=slr.predict(x_new)\n",
    "y_new_pred"
   ]
  },
  {
   "cell_type": "code",
   "execution_count": 174,
   "id": "bfb251d0",
   "metadata": {},
   "outputs": [
    {
     "name": "stdout",
     "output_type": "stream",
     "text": [
      "R2 score:  0.9502928755782439\n",
      "Mean Absolute Error:  2.5476190476190474\n",
      "Mean Squared Error:  7.413265306122454\n",
      "Root Mean Squared Error:  2.722731221792275\n"
     ]
    }
   ],
   "source": [
    "print(\"R2 score: \",metrics.r2_score(df['Y'],df['Pred_y']))\n",
    "print(\"Mean Absolute Error: \",metrics.mean_absolute_error(df['Y'],df['Pred_y']))\n",
    "print(\"Mean Squared Error: \",metrics.mean_squared_error(df['Y'],df['Pred_y']))\n",
    "print(\"Root Mean Squared Error: \",metrics.mean_squared_error(df['Y'],df['Pred_y'])**0.5)"
   ]
  },
  {
   "cell_type": "markdown",
   "id": "32468af5",
   "metadata": {},
   "source": [
    "### b)"
   ]
  },
  {
   "cell_type": "code",
   "execution_count": 126,
   "id": "5de4dc44",
   "metadata": {},
   "outputs": [
    {
     "data": {
      "text/html": [
       "<div>\n",
       "<style scoped>\n",
       "    .dataframe tbody tr th:only-of-type {\n",
       "        vertical-align: middle;\n",
       "    }\n",
       "\n",
       "    .dataframe tbody tr th {\n",
       "        vertical-align: top;\n",
       "    }\n",
       "\n",
       "    .dataframe thead th {\n",
       "        text-align: right;\n",
       "    }\n",
       "</style>\n",
       "<table border=\"1\" class=\"dataframe\">\n",
       "  <thead>\n",
       "    <tr style=\"text-align: right;\">\n",
       "      <th></th>\n",
       "      <th>Marks</th>\n",
       "      <th>Grade</th>\n",
       "    </tr>\n",
       "  </thead>\n",
       "  <tbody>\n",
       "    <tr>\n",
       "      <th>0</th>\n",
       "      <td>67</td>\n",
       "      <td>6</td>\n",
       "    </tr>\n",
       "    <tr>\n",
       "      <th>1</th>\n",
       "      <td>70</td>\n",
       "      <td>7</td>\n",
       "    </tr>\n",
       "    <tr>\n",
       "      <th>2</th>\n",
       "      <td>98</td>\n",
       "      <td>9</td>\n",
       "    </tr>\n",
       "    <tr>\n",
       "      <th>3</th>\n",
       "      <td>56</td>\n",
       "      <td>5</td>\n",
       "    </tr>\n",
       "    <tr>\n",
       "      <th>4</th>\n",
       "      <td>78</td>\n",
       "      <td>7</td>\n",
       "    </tr>\n",
       "    <tr>\n",
       "      <th>5</th>\n",
       "      <td>89</td>\n",
       "      <td>8</td>\n",
       "    </tr>\n",
       "    <tr>\n",
       "      <th>6</th>\n",
       "      <td>46</td>\n",
       "      <td>4</td>\n",
       "    </tr>\n",
       "    <tr>\n",
       "      <th>7</th>\n",
       "      <td>93</td>\n",
       "      <td>9</td>\n",
       "    </tr>\n",
       "  </tbody>\n",
       "</table>\n",
       "</div>"
      ],
      "text/plain": [
       "   Marks  Grade\n",
       "0     67      6\n",
       "1     70      7\n",
       "2     98      9\n",
       "3     56      5\n",
       "4     78      7\n",
       "5     89      8\n",
       "6     46      4\n",
       "7     93      9"
      ]
     },
     "execution_count": 126,
     "metadata": {},
     "output_type": "execute_result"
    }
   ],
   "source": [
    "marks={'Marks':[67,70,98,56,78,89,46,93],'Grade':[6,7,9,5,7,8,4,9]}\n",
    "marks=pd.DataFrame(marks)\n",
    "marks"
   ]
  },
  {
   "cell_type": "code",
   "execution_count": 129,
   "id": "75337ca3",
   "metadata": {},
   "outputs": [
    {
     "data": {
      "text/plain": [
       "<AxesSubplot:>"
      ]
     },
     "execution_count": 129,
     "metadata": {},
     "output_type": "execute_result"
    },
    {
     "data": {
      "image/png": "[encoded data removed]",
      "text/plain": [
       "<Figure size 640x480 with 1 Axes>"
      ]
     },
     "metadata": {},
     "output_type": "display_data"
    }
   ],
   "source": [
    "marks.plot(kind='bar')"
   ]
  },
  {
   "cell_type": "code",
   "execution_count": 130,
   "id": "a4ea5faf",
   "metadata": {},
   "outputs": [],
   "source": [
    "m=marks['Marks']\n",
    "g=marks['Grade']"
   ]
  },
  {
   "cell_type": "code",
   "execution_count": 131,
   "id": "23cacc3d",
   "metadata": {},
   "outputs": [],
   "source": [
    "m_train,m_test,g_train,g_test=train_test_split(m,g,test_size=0.2,random_state=100)"
   ]
  },
  {
   "cell_type": "code",
   "execution_count": 133,
   "id": "5a850e88",
   "metadata": {},
   "outputs": [],
   "source": [
    "m_train=np.reshape(np.array(m_train),(-1,1))\n",
    "g_train=np.reshape(np.array(g_train),(-1,1))\n",
    "m_test=np.reshape(np.array(m_test),(-1,1))\n",
    "g_test=np.reshape(np.array(g_test),(-1,1))"
   ]
  },
  {
   "cell_type": "code",
   "execution_count": 134,
   "id": "f0379627",
   "metadata": {},
   "outputs": [
    {
     "data": {
      "text/plain": [
       "LinearRegression()"
      ]
     },
     "execution_count": 134,
     "metadata": {},
     "output_type": "execute_result"
    }
   ],
   "source": [
    "slr_m=LinearRegression()\n",
    "slr_m.fit(m_train,g_train)"
   ]
  },
  {
   "cell_type": "code",
   "execution_count": 137,
   "id": "f93202cc",
   "metadata": {},
   "outputs": [
    {
     "data": {
      "text/plain": [
       "(array([[0.09885521]]), array([-0.56433149]))"
      ]
     },
     "execution_count": 137,
     "metadata": {},
     "output_type": "execute_result"
    }
   ],
   "source": [
    "slr_m.coef_,slr_m.intercept_"
   ]
  },
  {
   "cell_type": "code",
   "execution_count": 139,
   "id": "a489046a",
   "metadata": {},
   "outputs": [
    {
     "data": {
      "text/plain": [
       "(array([[6.35553316],\n",
       "        [7.14637483]]),\n",
       " array([[7],\n",
       "        [7]], dtype=int64))"
      ]
     },
     "execution_count": 139,
     "metadata": {},
     "output_type": "execute_result"
    }
   ],
   "source": [
    "g_pred_m=slr_m.predict(m_test)\n",
    "g_pred_m,g_test"
   ]
  },
  {
   "cell_type": "code",
   "execution_count": 145,
   "id": "54c0094e",
   "metadata": {},
   "outputs": [],
   "source": [
    "marks['Pred_g']=slr_m.intercept_ + (np.array(marks['Marks']).reshape(-1,1))*slr_m.coef_"
   ]
  },
  {
   "cell_type": "code",
   "execution_count": 146,
   "id": "0568615d",
   "metadata": {},
   "outputs": [
    {
     "data": {
      "text/html": [
       "<div>\n",
       "<style scoped>\n",
       "    .dataframe tbody tr th:only-of-type {\n",
       "        vertical-align: middle;\n",
       "    }\n",
       "\n",
       "    .dataframe tbody tr th {\n",
       "        vertical-align: top;\n",
       "    }\n",
       "\n",
       "    .dataframe thead th {\n",
       "        text-align: right;\n",
       "    }\n",
       "</style>\n",
       "<table border=\"1\" class=\"dataframe\">\n",
       "  <thead>\n",
       "    <tr style=\"text-align: right;\">\n",
       "      <th></th>\n",
       "      <th>Marks</th>\n",
       "      <th>Grade</th>\n",
       "      <th>Pred_g</th>\n",
       "    </tr>\n",
       "  </thead>\n",
       "  <tbody>\n",
       "    <tr>\n",
       "      <th>0</th>\n",
       "      <td>67</td>\n",
       "      <td>6</td>\n",
       "      <td>6.058968</td>\n",
       "    </tr>\n",
       "    <tr>\n",
       "      <th>1</th>\n",
       "      <td>70</td>\n",
       "      <td>7</td>\n",
       "      <td>6.355533</td>\n",
       "    </tr>\n",
       "    <tr>\n",
       "      <th>2</th>\n",
       "      <td>98</td>\n",
       "      <td>9</td>\n",
       "      <td>9.123479</td>\n",
       "    </tr>\n",
       "    <tr>\n",
       "      <th>3</th>\n",
       "      <td>56</td>\n",
       "      <td>5</td>\n",
       "      <td>4.971560</td>\n",
       "    </tr>\n",
       "    <tr>\n",
       "      <th>4</th>\n",
       "      <td>78</td>\n",
       "      <td>7</td>\n",
       "      <td>7.146375</td>\n",
       "    </tr>\n",
       "    <tr>\n",
       "      <th>5</th>\n",
       "      <td>89</td>\n",
       "      <td>8</td>\n",
       "      <td>8.233782</td>\n",
       "    </tr>\n",
       "    <tr>\n",
       "      <th>6</th>\n",
       "      <td>46</td>\n",
       "      <td>4</td>\n",
       "      <td>3.983008</td>\n",
       "    </tr>\n",
       "    <tr>\n",
       "      <th>7</th>\n",
       "      <td>93</td>\n",
       "      <td>9</td>\n",
       "      <td>8.629203</td>\n",
       "    </tr>\n",
       "  </tbody>\n",
       "</table>\n",
       "</div>"
      ],
      "text/plain": [
       "   Marks  Grade    Pred_g\n",
       "0     67      6  6.058968\n",
       "1     70      7  6.355533\n",
       "2     98      9  9.123479\n",
       "3     56      5  4.971560\n",
       "4     78      7  7.146375\n",
       "5     89      8  8.233782\n",
       "6     46      4  3.983008\n",
       "7     93      9  8.629203"
      ]
     },
     "execution_count": 146,
     "metadata": {},
     "output_type": "execute_result"
    }
   ],
   "source": [
    "marks"
   ]
  },
  {
   "cell_type": "code",
   "execution_count": 147,
   "id": "f864f3cd",
   "metadata": {},
   "outputs": [
    {
     "data": {
      "text/plain": [
       "[<matplotlib.lines.Line2D at 0x18f89678d30>]"
      ]
     },
     "execution_count": 147,
     "metadata": {},
     "output_type": "execute_result"
    },
    {
     "data": {
      "image/png": "[encoded data removed]",
      "text/plain": [
       "<Figure size 640x480 with 1 Axes>"
      ]
     },
     "metadata": {},
     "output_type": "display_data"
    }
   ],
   "source": [
    "plt.scatter(marks['Marks'],marks['Grade'])\n",
    "plt.plot(marks['Marks'],marks['Pred_g'],linewidth=3)"
   ]
  },
  {
   "cell_type": "code",
   "execution_count": 151,
   "id": "46225d60",
   "metadata": {},
   "outputs": [
    {
     "data": {
      "text/plain": [
       "array([[2.99445604]])"
      ]
     },
     "execution_count": 151,
     "metadata": {},
     "output_type": "execute_result"
    }
   ],
   "source": [
    "m_new=np.array([36]).reshape(-1,1)\n",
    "g_new_pred=slr_m.predict(m_new)\n",
    "g_new_pred"
   ]
  },
  {
   "cell_type": "code",
   "execution_count": 175,
   "id": "1502b498",
   "metadata": {},
   "outputs": [
    {
     "name": "stdout",
     "output_type": "stream",
     "text": [
      "R2 score:  0.9716402444506251\n",
      "Mean Absolute Error:  0.20291237670098594\n",
      "Mean Squared Error:  0.08109117602399363\n",
      "Root Mean Squared Error:  0.2847651243112359\n"
     ]
    }
   ],
   "source": [
    "print(\"R2 score: \",metrics.r2_score(marks['Grade'],marks['Pred_g']))\n",
    "print(\"Mean Absolute Error: \",metrics.mean_absolute_error(marks['Grade'],marks['Pred_g']))\n",
    "print(\"Mean Squared Error: \",metrics.mean_squared_error(marks['Grade'],marks['Pred_g']))\n",
    "print(\"Root Mean Squared Error: \",metrics.mean_squared_error(marks['Grade'],marks['Pred_g'])**0.5)"
   ]
  },
  {
   "cell_type": "markdown",
   "id": "325baa64",
   "metadata": {},
   "source": [
    "## Multiple Linear Regression"
   ]
  },
  {
   "cell_type": "code",
   "execution_count": 153,
   "id": "054c5e19",
   "metadata": {
    "scrolled": true
   },
   "outputs": [
    {
     "data": {
      "text/html": [
       "<div>\n",
       "<style scoped>\n",
       "    .dataframe tbody tr th:only-of-type {\n",
       "        vertical-align: middle;\n",
       "    }\n",
       "\n",
       "    .dataframe tbody tr th {\n",
       "        vertical-align: top;\n",
       "    }\n",
       "\n",
       "    .dataframe thead th {\n",
       "        text-align: right;\n",
       "    }\n",
       "</style>\n",
       "<table border=\"1\" class=\"dataframe\">\n",
       "  <thead>\n",
       "    <tr style=\"text-align: right;\">\n",
       "      <th></th>\n",
       "      <th>QD</th>\n",
       "      <th>Price</th>\n",
       "      <th>Income</th>\n",
       "    </tr>\n",
       "  </thead>\n",
       "  <tbody>\n",
       "    <tr>\n",
       "      <th>0</th>\n",
       "      <td>100</td>\n",
       "      <td>5</td>\n",
       "      <td>1000</td>\n",
       "    </tr>\n",
       "    <tr>\n",
       "      <th>1</th>\n",
       "      <td>75</td>\n",
       "      <td>7</td>\n",
       "      <td>600</td>\n",
       "    </tr>\n",
       "    <tr>\n",
       "      <th>2</th>\n",
       "      <td>80</td>\n",
       "      <td>6</td>\n",
       "      <td>1200</td>\n",
       "    </tr>\n",
       "    <tr>\n",
       "      <th>3</th>\n",
       "      <td>70</td>\n",
       "      <td>6</td>\n",
       "      <td>500</td>\n",
       "    </tr>\n",
       "    <tr>\n",
       "      <th>4</th>\n",
       "      <td>50</td>\n",
       "      <td>8</td>\n",
       "      <td>300</td>\n",
       "    </tr>\n",
       "    <tr>\n",
       "      <th>5</th>\n",
       "      <td>65</td>\n",
       "      <td>7</td>\n",
       "      <td>400</td>\n",
       "    </tr>\n",
       "    <tr>\n",
       "      <th>6</th>\n",
       "      <td>90</td>\n",
       "      <td>5</td>\n",
       "      <td>1300</td>\n",
       "    </tr>\n",
       "    <tr>\n",
       "      <th>7</th>\n",
       "      <td>100</td>\n",
       "      <td>4</td>\n",
       "      <td>1100</td>\n",
       "    </tr>\n",
       "    <tr>\n",
       "      <th>8</th>\n",
       "      <td>110</td>\n",
       "      <td>3</td>\n",
       "      <td>1300</td>\n",
       "    </tr>\n",
       "    <tr>\n",
       "      <th>9</th>\n",
       "      <td>60</td>\n",
       "      <td>9</td>\n",
       "      <td>300</td>\n",
       "    </tr>\n",
       "  </tbody>\n",
       "</table>\n",
       "</div>"
      ],
      "text/plain": [
       "    QD  Price  Income\n",
       "0  100      5    1000\n",
       "1   75      7     600\n",
       "2   80      6    1200\n",
       "3   70      6     500\n",
       "4   50      8     300\n",
       "5   65      7     400\n",
       "6   90      5    1300\n",
       "7  100      4    1100\n",
       "8  110      3    1300\n",
       "9   60      9     300"
      ]
     },
     "execution_count": 153,
     "metadata": {},
     "output_type": "execute_result"
    }
   ],
   "source": [
    "income={\"QD\":[100,75,80,70,50,65,90,100,110,60],\"Price\":[5,7,6,6,8,7,5,4,3,9],\"Income\":[1000,600,1200,500,300,400,1300,1100,1300,300]}\n",
    "income=pd.DataFrame(income)\n",
    "income"
   ]
  },
  {
   "cell_type": "code",
   "execution_count": 155,
   "id": "da2e7b82",
   "metadata": {},
   "outputs": [],
   "source": [
    "i=income.iloc[:,1:]\n",
    "q=income['QD']"
   ]
  },
  {
   "cell_type": "code",
   "execution_count": 156,
   "id": "bd3f188e",
   "metadata": {},
   "outputs": [],
   "source": [
    "i_train,i_test,q_train,q_test=train_test_split(i,q,test_size=0.2,random_state=100)"
   ]
  },
  {
   "cell_type": "code",
   "execution_count": 157,
   "id": "a03928b0",
   "metadata": {},
   "outputs": [
    {
     "data": {
      "text/plain": [
       "LinearRegression()"
      ]
     },
     "execution_count": 157,
     "metadata": {},
     "output_type": "execute_result"
    }
   ],
   "source": [
    "slr_inc=LinearRegression()\n",
    "slr_inc.fit(i_train,q_train)"
   ]
  },
  {
   "cell_type": "code",
   "execution_count": 158,
   "id": "88feceae",
   "metadata": {},
   "outputs": [
    {
     "data": {
      "text/plain": [
       "(array([-6.37340497,  0.0192411 ]), 103.41168569509739)"
      ]
     },
     "execution_count": 158,
     "metadata": {},
     "output_type": "execute_result"
    }
   ],
   "source": [
    "slr_inc.coef_,slr_inc.intercept_"
   ]
  },
  {
   "cell_type": "code",
   "execution_count": 159,
   "id": "5db5ba3b",
   "metadata": {},
   "outputs": [
    {
     "data": {
      "text/plain": [
       "(array([99.08327737, 96.55809268]),\n",
       " 7    100\n",
       " 6     90\n",
       " Name: QD, dtype: int64)"
      ]
     },
     "execution_count": 159,
     "metadata": {},
     "output_type": "execute_result"
    }
   ],
   "source": [
    "q_pred=slr_inc.predict(i_test)\n",
    "q_pred,q_test"
   ]
  },
  {
   "cell_type": "code",
   "execution_count": 160,
   "id": "a8dde9e8",
   "metadata": {},
   "outputs": [
    {
     "data": {
      "text/plain": [
       "0.12302080039835861"
      ]
     },
     "execution_count": 160,
     "metadata": {},
     "output_type": "execute_result"
    }
   ],
   "source": [
    "slr_inc.score(i_test,q_test)"
   ]
  },
  {
   "cell_type": "code",
   "execution_count": 170,
   "id": "9a89ce5f",
   "metadata": {},
   "outputs": [],
   "source": [
    "income['Pred_qd']=slr_inc.intercept_ + ((np.array(slr_inc.coef_).reshape(-1,1).T)@i.T).T"
   ]
  },
  {
   "cell_type": "code",
   "execution_count": 171,
   "id": "c29b1dc8",
   "metadata": {},
   "outputs": [
    {
     "data": {
      "text/html": [
       "<div>\n",
       "<style scoped>\n",
       "    .dataframe tbody tr th:only-of-type {\n",
       "        vertical-align: middle;\n",
       "    }\n",
       "\n",
       "    .dataframe tbody tr th {\n",
       "        vertical-align: top;\n",
       "    }\n",
       "\n",
       "    .dataframe thead th {\n",
       "        text-align: right;\n",
       "    }\n",
       "</style>\n",
       "<table border=\"1\" class=\"dataframe\">\n",
       "  <thead>\n",
       "    <tr style=\"text-align: right;\">\n",
       "      <th></th>\n",
       "      <th>QD</th>\n",
       "      <th>Price</th>\n",
       "      <th>Income</th>\n",
       "      <th>Pred_qd</th>\n",
       "    </tr>\n",
       "  </thead>\n",
       "  <tbody>\n",
       "    <tr>\n",
       "      <th>0</th>\n",
       "      <td>100</td>\n",
       "      <td>5</td>\n",
       "      <td>1000</td>\n",
       "      <td>90.785762</td>\n",
       "    </tr>\n",
       "    <tr>\n",
       "      <th>1</th>\n",
       "      <td>75</td>\n",
       "      <td>7</td>\n",
       "      <td>600</td>\n",
       "      <td>70.342512</td>\n",
       "    </tr>\n",
       "    <tr>\n",
       "      <th>2</th>\n",
       "      <td>80</td>\n",
       "      <td>6</td>\n",
       "      <td>1200</td>\n",
       "      <td>88.260578</td>\n",
       "    </tr>\n",
       "    <tr>\n",
       "      <th>3</th>\n",
       "      <td>70</td>\n",
       "      <td>6</td>\n",
       "      <td>500</td>\n",
       "      <td>74.791807</td>\n",
       "    </tr>\n",
       "    <tr>\n",
       "      <th>4</th>\n",
       "      <td>50</td>\n",
       "      <td>8</td>\n",
       "      <td>300</td>\n",
       "      <td>58.196776</td>\n",
       "    </tr>\n",
       "    <tr>\n",
       "      <th>5</th>\n",
       "      <td>65</td>\n",
       "      <td>7</td>\n",
       "      <td>400</td>\n",
       "      <td>66.494291</td>\n",
       "    </tr>\n",
       "    <tr>\n",
       "      <th>6</th>\n",
       "      <td>90</td>\n",
       "      <td>5</td>\n",
       "      <td>1300</td>\n",
       "      <td>96.558093</td>\n",
       "    </tr>\n",
       "    <tr>\n",
       "      <th>7</th>\n",
       "      <td>100</td>\n",
       "      <td>4</td>\n",
       "      <td>1100</td>\n",
       "      <td>99.083277</td>\n",
       "    </tr>\n",
       "    <tr>\n",
       "      <th>8</th>\n",
       "      <td>110</td>\n",
       "      <td>3</td>\n",
       "      <td>1300</td>\n",
       "      <td>109.304903</td>\n",
       "    </tr>\n",
       "    <tr>\n",
       "      <th>9</th>\n",
       "      <td>60</td>\n",
       "      <td>9</td>\n",
       "      <td>300</td>\n",
       "      <td>51.823371</td>\n",
       "    </tr>\n",
       "  </tbody>\n",
       "</table>\n",
       "</div>"
      ],
      "text/plain": [
       "    QD  Price  Income     Pred_qd\n",
       "0  100      5    1000   90.785762\n",
       "1   75      7     600   70.342512\n",
       "2   80      6    1200   88.260578\n",
       "3   70      6     500   74.791807\n",
       "4   50      8     300   58.196776\n",
       "5   65      7     400   66.494291\n",
       "6   90      5    1300   96.558093\n",
       "7  100      4    1100   99.083277\n",
       "8  110      3    1300  109.304903\n",
       "9   60      9     300   51.823371"
      ]
     },
     "execution_count": 171,
     "metadata": {},
     "output_type": "execute_result"
    }
   ],
   "source": [
    "income"
   ]
  },
  {
   "cell_type": "code",
   "execution_count": 176,
   "id": "7c1db3fe",
   "metadata": {},
   "outputs": [
    {
     "name": "stdout",
     "output_type": "stream",
     "text": [
      "R2 score:  0.890318158980282\n",
      "Mean Absolute Error:  5.296171927468099\n",
      "Mean Squared Error:  37.8402351518027\n",
      "Root Mean Squared Error:  6.151441713273621\n"
     ]
    }
   ],
   "source": [
    "print(\"R2 score: \",metrics.r2_score(income['QD'],income['Pred_qd']))\n",
    "print(\"Mean Absolute Error: \",metrics.mean_absolute_error(income['QD'],income['Pred_qd']))\n",
    "print(\"Mean Squared Error: \",metrics.mean_squared_error(income['QD'],income['Pred_qd']))\n",
    "print(\"Root Mean Squared Error: \",metrics.mean_squared_error(income['QD'],income['Pred_qd'])**0.5)"
   ]
  },
  {
   "cell_type": "code",
   "execution_count": null,
   "id": "964e1515",
   "metadata": {},
   "outputs": [],
   "source": []
  }
 ],
 "metadata": {
  "kernelspec": {
   "display_name": "Python 3 (ipykernel)",
   "language": "python",
   "name": "python3"
  },
  "language_info": {
   "codemirror_mode": {
    "name": "ipython",
    "version": 3
   },
   "file_extension": ".py",
   "mimetype": "text/x-python",
   "name": "python",
   "nbconvert_exporter": "python",
   "pygments_lexer": "ipython3",
   "version": "3.9.13"
  }
 },
 "nbformat": 4,
 "nbformat_minor": 5
}
